{
 "cells": [
  {
   "cell_type": "code",
   "execution_count": 1,
   "metadata": {},
   "outputs": [],
   "source": [
    "import numpy as np\n",
    "from HomologyGroup import calc_HomologyGroupList"
   ]
  },
  {
   "cell_type": "code",
   "execution_count": 31,
   "metadata": {},
   "outputs": [],
   "source": [
    "# simplicical-complex inputs for tests\n",
    "K0 = [[0]]\n",
    "K1 = [[0],[1]]\n",
    "K2 = [[0],[1],[0,1]]\n",
    "# circumference\n",
    "K3 = [[0],[1],[2],[0,1],[1,2],[2,0]]\n",
    "# disk\n",
    "K4 = [[0],[1],[2],[0,1],[1,2],[2,0],[0,1,2]]\n",
    "# spherical\n",
    "K5 = [[0],[1],[2],[3],\\\n",
    "      [0,1],[0,2],[0,3],[1,2],[1,3],[2,3],\\\n",
    "      [0,1,2],[0,1,3],[0,2,3],[1,2,3]]\n",
    "# sphere\n",
    "K6 = [[0],[1],[2],[3],\\\n",
    "      [0,1],[0,2],[0,3],[1,2],[1,3],[2,3],\\\n",
    "      [0,1,2],[0,1,3],[0,2,3],[1,2,3],[0,1,2,3]]\n",
    "# Mobius band\n",
    "K7 = [[0],[1],[2],[3],[4],[5],\\\n",
    "     [0,1],[0,2],[0,5],[1,2],[1,3],[1,4],[1,5],[2,3],[2,4],[3,4],[3,5],[4,5],\\\n",
    "    [0,1,2],[2,1,4],[2,4,3],[3,4,5],[3,5,1],[5,0,1]]\n",
    "# projective space\n",
    "K8 = [[0],[1],[2],[3],[4],[5],\\\n",
    "     [0,1],[0,2],[0,3],[0,4],[0,5],[1,2],[1,3],[1,4],[1,5],[2,3],[2,4],[2,5],[3,4],[3,5],[4,5],\\\n",
    "    [0,1,2],[0,2,3],[0,3,5],[0,4,1],[0,5,4],[1,3,5],[1,4,3],[1,5,2],[2,4,3],[2,5,4]]\n",
    "# torus\n",
    "K9 = [[0],[1],[2],[3],[4],[5],[6],[7],[8],\\\n",
    "    [0,1],[0,2],[0,3],[0,4],[0,6],[0,7],[1,2],[1,4],[1,5],[1,7],[1,8],\\\n",
    "    [2,3],[2,5],[2,6],[2,8],[3,4],[3,5],[3,7],[3,8],\\\n",
    "    [4,5],[4,6],[4,8],[5,6],[5,7],[6,7],[6,8],[7,8],\\\n",
    "    [0,1,4],[1,4,5],[1,2,5],[2,5,6],[0,6,2],[0,6,4],\\\n",
    "    [3,4,5],[3,7,5],[5,6,7],[6,7,8],[4,8,6],[3,4,8],\\\n",
    "    [0,3,7],[0,1,7],[1,7,8],[1,2,8],[2,8,3],[0,3,2]]\n",
    "# Klein bottle\n",
    "K10 = [[0],[1],[2],[3],[4],[5],[6],[7],[8],\\\n",
    "    [0,1],[0,2],[0,3],[0,4],[0,6],[0,7],[1,2],[1,5],[1,6],[1,7],[1,8],\\\n",
    "    [2,3],[2,4],[2,5],[2,8],[3,4],[3,5],[3,7],[3,8],\\\n",
    "    [4,5],[4,6],[4,8],[5,6],[5,7],[6,7],[6,8],[7,8],\\\n",
    "    [0,4,2],[2,4,5],[1,2,5],[1,5,6],[0,1,6],[0,6,4],\\\n",
    "    [3,5,4],[3,7,5],[5,7,6],[6,7,8],[4,6,8],[3,4,8],\\\n",
    "    [0,7,3],[0,1,7],[1,8,7],[1,2,8],[2,3,8],[0,3,2]]"
   ]
  },
  {
   "cell_type": "code",
   "execution_count": 32,
   "metadata": {},
   "outputs": [],
   "source": [
    "H = calc_HomologyGroupList(K10)\n",
    "betti = np.array([ len(hi) for hi in H ])\n",
    "Euler = np.sum( np.array([ pow(-1,i) for i in range(len(betti)) ])*betti )"
   ]
  },
  {
   "cell_type": "code",
   "execution_count": 33,
   "metadata": {},
   "outputs": [
    {
     "name": "stdout",
     "output_type": "stream",
     "text": [
      "H0 = [[0 0 0 0 0 0 0 0 1]]\n",
      "tor=[1]\n",
      "H1 = [[ 0  0  0  0  0  0  0  0  0  0  0  0  0  1 -1  0  0  0  0  0  0  0  0  1\n",
      "   0  0  1]\n",
      " [ 0  0  0  0  0  0  0  0  0  0  0  0  0  0  0  0  0  0  0  1  0 -1  0  1\n",
      "   0  0  1]]\n",
      "tor=[1, 2]\n",
      "H2 = []\n",
      "tor=[]\n"
     ]
    }
   ],
   "source": [
    "for i, hi in enumerate(H):\n",
    "    print(\"H{0} = {1}\\ntor={2}\".format(i,hi[0].T,hi[1]))"
   ]
  },
  {
   "cell_type": "code",
   "execution_count": 34,
   "metadata": {},
   "outputs": [
    {
     "data": {
      "text/plain": [
       "2"
      ]
     },
     "execution_count": 34,
     "metadata": {},
     "output_type": "execute_result"
    }
   ],
   "source": [
    "Euler"
   ]
  },
  {
   "cell_type": "code",
   "execution_count": 35,
   "metadata": {},
   "outputs": [
    {
     "data": {
      "text/plain": [
       "([4, 6], [5, 6], [6, 7], [7, 8])"
      ]
     },
     "execution_count": 35,
     "metadata": {},
     "output_type": "execute_result"
    }
   ],
   "source": [
    "C1 = [ s for s in K9 if len(s)==2 ]\n",
    "C1[20],C1[22],C1[24],C1[-1]"
   ]
  },
  {
   "cell_type": "code",
   "execution_count": null,
   "metadata": {},
   "outputs": [],
   "source": []
  }
 ],
 "metadata": {
  "kernelspec": {
   "display_name": "Python 3",
   "language": "python",
   "name": "python3"
  },
  "language_info": {
   "codemirror_mode": {
    "name": "ipython",
    "version": 3
   },
   "file_extension": ".py",
   "mimetype": "text/x-python",
   "name": "python",
   "nbconvert_exporter": "python",
   "pygments_lexer": "ipython3",
   "version": "3.8.3"
  }
 },
 "nbformat": 4,
 "nbformat_minor": 4
}
